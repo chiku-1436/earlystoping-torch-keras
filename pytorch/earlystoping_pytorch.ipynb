{
 "cells": [
  {
   "cell_type": "code",
   "execution_count": 1,
   "metadata": {},
   "outputs": [],
   "source": [
    "import matplotlib.pyplot as plt\n",
    "import numpy as np\n",
    "import warnings\n",
    "import torch\n",
    "import torchvision\n",
    "import torchvision.transforms as transforms\n",
    "from torchvision import  models"
   ]
  },
  {
   "cell_type": "code",
   "execution_count": 2,
   "metadata": {},
   "outputs": [],
   "source": [
    "# !pip3 install torch==1.7"
   ]
  },
  {
   "cell_type": "code",
   "execution_count": 3,
   "metadata": {},
   "outputs": [],
   "source": [
    "warnings.filterwarnings(\"ignore\")"
   ]
  },
  {
   "cell_type": "code",
   "execution_count": 4,
   "metadata": {},
   "outputs": [
    {
     "name": "stdout",
     "output_type": "stream",
     "text": [
      "Files already downloaded and verified\n",
      "Files already downloaded and verified\n"
     ]
    }
   ],
   "source": [
    "transform = transforms.Compose(\n",
    "    [transforms.ToTensor(),\n",
    "     transforms.Normalize((0.4914, 0.4822, 0.4465), (0.2023, 0.1994, 0.2010))])\n",
    "\n",
    "trainset = torchvision.datasets.CIFAR10(root='./data', train=True,\n",
    "                                        download=True, transform=transform)\n",
    "trainloader = torch.utils.data.DataLoader(trainset, batch_size=128,\n",
    "                                          shuffle=True, num_workers=8)\n",
    "\n",
    "testset = torchvision.datasets.CIFAR10(root='./data', train=False,\n",
    "                                       download=True, transform=transform)\n",
    "testloader = torch.utils.data.DataLoader(testset, batch_size=128,\n",
    "                                         shuffle=False, num_workers=8)"
   ]
  },
  {
   "cell_type": "code",
   "execution_count": 5,
   "metadata": {},
   "outputs": [],
   "source": [
    "classes = ('plane', 'car', 'bird', 'cat', 'deer', 'dog', 'frog', 'horse', 'ship', 'truck')"
   ]
  },
  {
   "cell_type": "code",
   "execution_count": 6,
   "metadata": {},
   "outputs": [],
   "source": [
    "import torch.nn as nn\n",
    "import torch.nn.functional as F\n",
    "\n",
    "\n",
    "class model_es(nn.Module):\n",
    "    def __init__(self):\n",
    "        super().__init__()\n",
    "        self.conv1 = nn.Conv2d(3, 8, 5)\n",
    "        self.pool = nn.MaxPool2d(2, 2)\n",
    "        self.conv2 = nn.Conv2d(8, 20, 5)\n",
    "        self.fc1 = nn.Linear(20 * 5 * 5, 120)\n",
    "        self.fc2 = nn.Linear(120, 84)\n",
    "        self.fc3 = nn.Linear(84, 10)\n",
    "\n",
    "    def forward(self, x):\n",
    "        x = self.pool(F.relu(self.conv1(x)))\n",
    "        x = self.pool(F.relu(self.conv2(x)))\n",
    "        x = torch.flatten(x, 1)\n",
    "        x = F.relu(self.fc1(x))\n",
    "        x = F.relu(self.fc2(x))\n",
    "        x = self.fc3(x)\n",
    "        return x"
   ]
  },
  {
   "cell_type": "code",
   "execution_count": 8,
   "metadata": {},
   "outputs": [],
   "source": [
    "import torch.optim as optim\n",
    "from utils import binary_acc, EarlyStopping, AverageMeter\n",
    "\n",
    "model = model_es()\n",
    "criterion = nn.CrossEntropyLoss()\n",
    "early_stopping = EarlyStopping(patience=15, verbose=True,path = 'model1.pth')\n",
    "optimizer = optim.SGD(model.parameters(), lr=0.0005, momentum=0.9)\n",
    "device = torch.device(\"cuda\" if torch.cuda.is_available() else \"cpu\")"
   ]
  },
  {
   "cell_type": "code",
   "execution_count": 11,
   "metadata": {},
   "outputs": [
    {
     "name": "stdout",
     "output_type": "stream",
     "text": [
      "Epoch 1: | Train Loss: 2.27167 |     Val Loss: 2.22852 | Train Acc: 18.828 |      Val Acc: 22.371\n",
      "Validation loss decreased (inf --> 2.228517).  Saving model ...\n",
      "Epoch 2: | Train Loss: 2.19497 |     Val Loss: 2.12250 | Train Acc: 21.833 |      Val Acc: 25.036\n",
      "Validation loss decreased (2.228517 --> 2.122505).  Saving model ...\n",
      "Epoch 3: | Train Loss: 2.12214 |     Val Loss: 2.05828 | Train Acc: 24.190 |      Val Acc: 27.011\n",
      "Validation loss decreased (2.122505 --> 2.058281).  Saving model ...\n",
      "Epoch 4: | Train Loss: 2.06752 |     Val Loss: 2.00808 | Train Acc: 26.080 |      Val Acc: 28.747\n",
      "Validation loss decreased (2.058281 --> 2.008078).  Saving model ...\n",
      "Epoch 5: | Train Loss: 2.01787 |     Val Loss: 1.95846 | Train Acc: 27.817 |      Val Acc: 30.371\n",
      "Validation loss decreased (2.008078 --> 1.958464).  Saving model ...\n",
      "Epoch 6: | Train Loss: 1.96879 |     Val Loss: 1.91029 | Train Acc: 29.491 |      Val Acc: 32.010\n",
      "Validation loss decreased (1.958464 --> 1.910289).  Saving model ...\n",
      "Epoch 7: | Train Loss: 1.92257 |     Val Loss: 1.86730 | Train Acc: 31.044 |      Val Acc: 33.385\n",
      "Validation loss decreased (1.910289 --> 1.867296).  Saving model ...\n",
      "Epoch 8: | Train Loss: 1.88079 |     Val Loss: 1.82905 | Train Acc: 32.454 |      Val Acc: 34.641\n",
      "Validation loss decreased (1.867296 --> 1.829054).  Saving model ...\n",
      "Epoch 9: | Train Loss: 1.84293 |     Val Loss: 1.79523 | Train Acc: 33.787 |      Val Acc: 35.800\n",
      "Validation loss decreased (1.829054 --> 1.795231).  Saving model ...\n",
      "Epoch 10: | Train Loss: 1.80793 |     Val Loss: 1.76337 | Train Acc: 35.040 |      Val Acc: 36.908\n",
      "Validation loss decreased (1.795231 --> 1.763370).  Saving model ...\n",
      "Epoch 11: | Train Loss: 1.77581 |     Val Loss: 1.73386 | Train Acc: 36.206 |      Val Acc: 37.922\n",
      "Validation loss decreased (1.763370 --> 1.733865).  Saving model ...\n",
      "Epoch 12: | Train Loss: 1.74628 |     Val Loss: 1.70759 | Train Acc: 37.306 |      Val Acc: 38.874\n",
      "Validation loss decreased (1.733865 --> 1.707589).  Saving model ...\n",
      "Epoch 13: | Train Loss: 1.71910 |     Val Loss: 1.68312 | Train Acc: 38.318 |      Val Acc: 39.740\n",
      "Validation loss decreased (1.707589 --> 1.683122).  Saving model ...\n",
      "Epoch 14: | Train Loss: 1.69409 |     Val Loss: 1.66077 | Train Acc: 39.242 |      Val Acc: 40.542\n",
      "Validation loss decreased (1.683122 --> 1.660771).  Saving model ...\n",
      "Epoch 15: | Train Loss: 1.67084 |     Val Loss: 1.63970 | Train Acc: 40.104 |      Val Acc: 41.316\n",
      "Validation loss decreased (1.660771 --> 1.639697).  Saving model ...\n",
      "Epoch 16: | Train Loss: 1.64913 |     Val Loss: 1.62052 | Train Acc: 40.899 |      Val Acc: 42.033\n",
      "Validation loss decreased (1.639697 --> 1.620524).  Saving model ...\n",
      "Epoch 17: | Train Loss: 1.62896 |     Val Loss: 1.60196 | Train Acc: 41.640 |      Val Acc: 42.705\n",
      "Validation loss decreased (1.620524 --> 1.601956).  Saving model ...\n",
      "Epoch 18: | Train Loss: 1.61007 |     Val Loss: 1.58501 | Train Acc: 42.333 |      Val Acc: 43.322\n",
      "Validation loss decreased (1.601956 --> 1.585007).  Saving model ...\n",
      "Epoch 19: | Train Loss: 1.59207 |     Val Loss: 1.56899 | Train Acc: 42.996 |      Val Acc: 43.910\n",
      "Validation loss decreased (1.585007 --> 1.568994).  Saving model ...\n",
      "Epoch 20: | Train Loss: 1.57505 |     Val Loss: 1.55390 | Train Acc: 43.627 |      Val Acc: 44.474\n",
      "Validation loss decreased (1.568994 --> 1.553903).  Saving model ...\n",
      "Epoch 21: | Train Loss: 1.55883 |     Val Loss: 1.53952 | Train Acc: 44.224 |      Val Acc: 45.026\n",
      "Validation loss decreased (1.553903 --> 1.539521).  Saving model ...\n",
      "Epoch 22: | Train Loss: 1.54346 |     Val Loss: 1.52596 | Train Acc: 44.792 |      Val Acc: 45.540\n",
      "Validation loss decreased (1.539521 --> 1.525961).  Saving model ...\n",
      "Epoch 23: | Train Loss: 1.52882 |     Val Loss: 1.51308 | Train Acc: 45.337 |      Val Acc: 46.028\n",
      "Validation loss decreased (1.525961 --> 1.513077).  Saving model ...\n",
      "Epoch 24: | Train Loss: 1.51470 |     Val Loss: 1.50091 | Train Acc: 45.864 |      Val Acc: 46.464\n",
      "Validation loss decreased (1.513077 --> 1.500913).  Saving model ...\n",
      "Epoch 25: | Train Loss: 1.50119 |     Val Loss: 1.48966 | Train Acc: 46.365 |      Val Acc: 46.904\n",
      "Validation loss decreased (1.500913 --> 1.489659).  Saving model ...\n",
      "Epoch 26: | Train Loss: 1.48819 |     Val Loss: 1.47836 | Train Acc: 46.847 |      Val Acc: 47.344\n",
      "Validation loss decreased (1.489659 --> 1.478355).  Saving model ...\n",
      "Epoch 27: | Train Loss: 1.47563 |     Val Loss: 1.46736 | Train Acc: 47.312 |      Val Acc: 47.763\n",
      "Validation loss decreased (1.478355 --> 1.467363).  Saving model ...\n",
      "Epoch 28: | Train Loss: 1.46361 |     Val Loss: 1.45743 | Train Acc: 47.763 |      Val Acc: 48.143\n",
      "Validation loss decreased (1.467363 --> 1.457431).  Saving model ...\n",
      "Epoch 29: | Train Loss: 1.45194 |     Val Loss: 1.44788 | Train Acc: 48.193 |      Val Acc: 48.485\n",
      "Validation loss decreased (1.457431 --> 1.447878).  Saving model ...\n",
      "Epoch 30: | Train Loss: 1.44075 |     Val Loss: 1.43824 | Train Acc: 48.609 |      Val Acc: 48.866\n",
      "Validation loss decreased (1.447878 --> 1.438244).  Saving model ...\n",
      "Epoch 31: | Train Loss: 1.42984 |     Val Loss: 1.42952 | Train Acc: 49.025 |      Val Acc: 49.199\n",
      "Validation loss decreased (1.438244 --> 1.429516).  Saving model ...\n",
      "Epoch 32: | Train Loss: 1.41928 |     Val Loss: 1.42072 | Train Acc: 49.427 |      Val Acc: 49.527\n",
      "Validation loss decreased (1.429516 --> 1.420720).  Saving model ...\n",
      "Epoch 33: | Train Loss: 1.40907 |     Val Loss: 1.41235 | Train Acc: 49.811 |      Val Acc: 49.850\n",
      "Validation loss decreased (1.420720 --> 1.412351).  Saving model ...\n",
      "Epoch 34: | Train Loss: 1.39911 |     Val Loss: 1.40431 | Train Acc: 50.187 |      Val Acc: 50.175\n",
      "Validation loss decreased (1.412351 --> 1.404312).  Saving model ...\n",
      "Epoch 35: | Train Loss: 1.38958 |     Val Loss: 1.39666 | Train Acc: 50.544 |      Val Acc: 50.471\n",
      "Validation loss decreased (1.404312 --> 1.396657).  Saving model ...\n",
      "Epoch 36: | Train Loss: 1.38022 |     Val Loss: 1.38905 | Train Acc: 50.893 |      Val Acc: 50.756\n",
      "Validation loss decreased (1.396657 --> 1.389046).  Saving model ...\n",
      "Epoch 37: | Train Loss: 1.37122 |     Val Loss: 1.38149 | Train Acc: 51.229 |      Val Acc: 51.043\n",
      "Validation loss decreased (1.389046 --> 1.381485).  Saving model ...\n",
      "Epoch 38: | Train Loss: 1.36241 |     Val Loss: 1.37429 | Train Acc: 51.557 |      Val Acc: 51.309\n",
      "Validation loss decreased (1.381485 --> 1.374294).  Saving model ...\n",
      "Epoch 39: | Train Loss: 1.35376 |     Val Loss: 1.36754 | Train Acc: 51.879 |      Val Acc: 51.545\n",
      "Validation loss decreased (1.374294 --> 1.367538).  Saving model ...\n",
      "Epoch 40: | Train Loss: 1.34528 |     Val Loss: 1.36068 | Train Acc: 52.191 |      Val Acc: 51.809\n",
      "Validation loss decreased (1.367538 --> 1.360684).  Saving model ...\n",
      "Epoch 41: | Train Loss: 1.33704 |     Val Loss: 1.35441 | Train Acc: 52.495 |      Val Acc: 52.056\n",
      "Validation loss decreased (1.360684 --> 1.354412).  Saving model ...\n",
      "Epoch 42: | Train Loss: 1.32900 |     Val Loss: 1.34804 | Train Acc: 52.795 |      Val Acc: 52.295\n",
      "Validation loss decreased (1.354412 --> 1.348037).  Saving model ...\n",
      "Epoch 43: | Train Loss: 1.32109 |     Val Loss: 1.34246 | Train Acc: 53.090 |      Val Acc: 52.519\n",
      "Validation loss decreased (1.348037 --> 1.342462).  Saving model ...\n",
      "Epoch 44: | Train Loss: 1.31337 |     Val Loss: 1.33666 | Train Acc: 53.376 |      Val Acc: 52.739\n",
      "Validation loss decreased (1.342462 --> 1.336658).  Saving model ...\n",
      "Epoch 45: | Train Loss: 1.30581 |     Val Loss: 1.33160 | Train Acc: 53.657 |      Val Acc: 52.929\n",
      "Validation loss decreased (1.336658 --> 1.331599).  Saving model ...\n",
      "Epoch 46: | Train Loss: 1.29847 |     Val Loss: 1.32627 | Train Acc: 53.928 |      Val Acc: 53.134\n",
      "Validation loss decreased (1.331599 --> 1.326269).  Saving model ...\n",
      "Epoch 47: | Train Loss: 1.29124 |     Val Loss: 1.32071 | Train Acc: 54.194 |      Val Acc: 53.343\n",
      "Validation loss decreased (1.326269 --> 1.320710).  Saving model ...\n",
      "Epoch 48: | Train Loss: 1.28428 |     Val Loss: 1.31570 | Train Acc: 54.451 |      Val Acc: 53.542\n",
      "Validation loss decreased (1.320710 --> 1.315695).  Saving model ...\n",
      "Epoch 49: | Train Loss: 1.27731 |     Val Loss: 1.31068 | Train Acc: 54.710 |      Val Acc: 53.733\n",
      "Validation loss decreased (1.315695 --> 1.310679).  Saving model ...\n"
     ]
    }
   ],
   "source": [
    "epochs = 50\n",
    "\n",
    "train_acc = AverageMeter()\n",
    "train_losses = AverageMeter()\n",
    "val_acc = AverageMeter()\n",
    "val_losses = AverageMeter()\n",
    "valid_loss_min = np.Inf\n",
    "for epoch in range(1,epochs):\n",
    "    model.train()\n",
    "    for inputs, labels in trainloader:\n",
    "        if torch.cuda.is_available():\n",
    "            inputs, labels = inputs.to(device), labels.to(device)\n",
    "        optimizer.zero_grad()\n",
    "        logps = model.forward(inputs.float())\n",
    "        loss = criterion(logps, labels)\n",
    "        acc = binary_acc(logps, labels)\n",
    "        loss.backward()\n",
    "        optimizer.step()\n",
    "        train_losses.update(loss.item(), inputs.size(0))\n",
    "        train_acc.update(acc, inputs.size(0))\n",
    "\n",
    "    # VALIDATION\n",
    "    model.eval()\n",
    "    with torch.no_grad():\n",
    "        for inputs, labels in testloader:\n",
    "            inputs, labels = inputs.to(device), labels.to(device)\n",
    "            logps = model.forward(inputs.float())\n",
    "            val_loss  = criterion(logps, labels)\n",
    "            val_ac  = binary_acc(logps, labels)\n",
    "            val_losses.update(val_loss.item(), inputs.size(0))\n",
    "            val_acc.update(val_ac, inputs.size(0))\n",
    "    print(f'Epoch {epoch}: | Train Loss: {train_losses.avg:.5f} | \\\n",
    "    Val Loss: {val_losses.avg:.5f} | Train Acc: {train_acc.avg:.3f} |  \\\n",
    "    Val Acc: {val_acc.avg:.3f}')\n",
    "    early_stopping(val_losses.avg, model)"
   ]
  },
  {
   "cell_type": "code",
   "execution_count": null,
   "metadata": {},
   "outputs": [],
   "source": []
  },
  {
   "cell_type": "code",
   "execution_count": null,
   "metadata": {},
   "outputs": [],
   "source": []
  },
  {
   "cell_type": "code",
   "execution_count": null,
   "metadata": {},
   "outputs": [],
   "source": []
  },
  {
   "cell_type": "code",
   "execution_count": null,
   "metadata": {},
   "outputs": [],
   "source": [
    "PATH = './cifar_net.pth'\n",
    "# torch.save(net.state_dict(), PATH)"
   ]
  },
  {
   "cell_type": "code",
   "execution_count": null,
   "metadata": {},
   "outputs": [],
   "source": [
    "dataiter = iter(testloader)\n",
    "images, labels = dataiter.next()\n",
    "\n",
    "# print images\n",
    "imshow(torchvision.utils.make_grid(images))\n",
    "print('GroundTruth: ', ' '.join('%5s' % classes[labels[j]] for j in range(4)))"
   ]
  },
  {
   "cell_type": "code",
   "execution_count": null,
   "metadata": {},
   "outputs": [],
   "source": [
    "# net.load_state_dict(torch.load(PATH))"
   ]
  },
  {
   "cell_type": "code",
   "execution_count": null,
   "metadata": {},
   "outputs": [],
   "source": [
    "outputs = net(images)\n",
    "_, predicted = torch.max(outputs, 1)\n",
    "\n",
    "print('Predicted: ', ' '.join('%5s' % classes[predicted[j]]\n",
    "                              for j in range(4)))"
   ]
  },
  {
   "cell_type": "code",
   "execution_count": null,
   "metadata": {},
   "outputs": [],
   "source": [
    "outputs"
   ]
  },
  {
   "cell_type": "code",
   "execution_count": null,
   "metadata": {},
   "outputs": [],
   "source": [
    "correct = 0\n",
    "total = 0\n",
    "with torch.no_grad():\n",
    "    for data in testloader:\n",
    "        images, labels = data\n",
    "        outputs = net(images)\n",
    "        _, predicted = torch.max(outputs.data, 1)\n",
    "        total += labels.size(0)\n",
    "        correct += (predicted == labels).sum().item()\n",
    "\n",
    "print('Accuracy of the network on the 10000 test images: %d %%' % (\n",
    "    100 * correct / total))"
   ]
  },
  {
   "cell_type": "code",
   "execution_count": null,
   "metadata": {},
   "outputs": [],
   "source": []
  }
 ],
 "metadata": {
  "kernelspec": {
   "display_name": "Python 3",
   "language": "python",
   "name": "python3"
  },
  "language_info": {
   "codemirror_mode": {
    "name": "ipython",
    "version": 3
   },
   "file_extension": ".py",
   "mimetype": "text/x-python",
   "name": "python",
   "nbconvert_exporter": "python",
   "pygments_lexer": "ipython3",
   "version": "3.6.9"
  }
 },
 "nbformat": 4,
 "nbformat_minor": 4
}
