{
 "cells": [
  {
   "cell_type": "code",
   "execution_count": 1,
   "id": "7762bfa1",
   "metadata": {},
   "outputs": [],
   "source": [
    "import numpy as np\n",
    "import tensorflow as tf\n",
    "import matplotlib.pyplot as plt\n",
    "%matplotlib inline\n",
    "\n",
    "from sklearn.metrics import confusion_matrix,accuracy_score"
   ]
  },
  {
   "cell_type": "code",
   "execution_count": 2,
   "id": "218527e7",
   "metadata": {},
   "outputs": [],
   "source": [
    "#take mnist data\n",
    "(x_train, y_train), (x_test, y_test) = tf.keras.datasets.mnist.load_data()"
   ]
  },
  {
   "cell_type": "code",
   "execution_count": 3,
   "id": "1cec805d",
   "metadata": {},
   "outputs": [],
   "source": [
    "x_train1 = x_train / 255\n",
    "x_test1 = x_test / 255\n",
    "\n",
    "x_train2 = np.expand_dims(x_train1.astype(\"float32\"),-1)\n",
    "x_test2 = np.expand_dims(x_test1.astype(\"float32\") ,-1)"
   ]
  },
  {
   "cell_type": "code",
   "execution_count": 4,
   "id": "618145af",
   "metadata": {},
   "outputs": [],
   "source": [
    "y_train1 = tf.keras.utils.to_categorical(y_train, 10)\n",
    "y_test1 = tf.keras.utils.to_categorical(y_test, 10)"
   ]
  },
  {
   "cell_type": "code",
   "execution_count": 5,
   "id": "8863956d",
   "metadata": {},
   "outputs": [],
   "source": [
    "inp = tf.keras.Input(shape=(28,28,1))\n",
    "x = tf.keras.layers.Conv2D(16, kernel_size=(3, 3), activation=\"relu\")(inp)\n",
    "x = tf.keras.layers.MaxPooling2D((2, 2))(x)\n",
    "x = tf.keras.layers.Conv2D(32, kernel_size=(3, 3), activation=\"relu\")(x)\n",
    "x = tf.keras.layers.MaxPooling2D((2, 2))(x)\n",
    "x = tf.keras.layers.Flatten()(x)\n",
    "x = tf.keras.layers.Dense(10, activation=\"softmax\")(x)"
   ]
  },
  {
   "cell_type": "code",
   "execution_count": 6,
   "id": "d3c17619",
   "metadata": {},
   "outputs": [],
   "source": [
    "model = tf.keras.Model(inputs=inp, outputs=x)"
   ]
  },
  {
   "cell_type": "code",
   "execution_count": 7,
   "id": "ff43a618",
   "metadata": {},
   "outputs": [
    {
     "name": "stdout",
     "output_type": "stream",
     "text": [
      "Model: \"model\"\n",
      "_________________________________________________________________\n",
      "Layer (type)                 Output Shape              Param #   \n",
      "=================================================================\n",
      "input_1 (InputLayer)         [(None, 28, 28, 1)]       0         \n",
      "_________________________________________________________________\n",
      "conv2d (Conv2D)              (None, 26, 26, 16)        160       \n",
      "_________________________________________________________________\n",
      "max_pooling2d (MaxPooling2D) (None, 13, 13, 16)        0         \n",
      "_________________________________________________________________\n",
      "conv2d_1 (Conv2D)            (None, 11, 11, 32)        4640      \n",
      "_________________________________________________________________\n",
      "max_pooling2d_1 (MaxPooling2 (None, 5, 5, 32)          0         \n",
      "_________________________________________________________________\n",
      "flatten (Flatten)            (None, 800)               0         \n",
      "_________________________________________________________________\n",
      "dense (Dense)                (None, 10)                8010      \n",
      "=================================================================\n",
      "Total params: 12,810\n",
      "Trainable params: 12,810\n",
      "Non-trainable params: 0\n",
      "_________________________________________________________________\n"
     ]
    }
   ],
   "source": [
    "model.summary()"
   ]
  },
  {
   "cell_type": "code",
   "execution_count": 8,
   "id": "8f9e139a",
   "metadata": {},
   "outputs": [
    {
     "name": "stdout",
     "output_type": "stream",
     "text": [
      "Epoch 1/50\n",
      "469/469 [==============================] - 5s 9ms/step - loss: 1.0615 - accuracy: 0.7062 - val_loss: 0.1661 - val_accuracy: 0.9534\n",
      "Epoch 2/50\n",
      "469/469 [==============================] - 4s 9ms/step - loss: 0.1553 - accuracy: 0.9539 - val_loss: 0.1010 - val_accuracy: 0.9714\n",
      "Epoch 3/50\n",
      "469/469 [==============================] - 4s 8ms/step - loss: 0.1029 - accuracy: 0.9699 - val_loss: 0.0801 - val_accuracy: 0.9760\n",
      "Epoch 4/50\n",
      "469/469 [==============================] - 4s 9ms/step - loss: 0.0835 - accuracy: 0.9759 - val_loss: 0.0654 - val_accuracy: 0.9803\n",
      "Epoch 5/50\n",
      "469/469 [==============================] - 4s 9ms/step - loss: 0.0713 - accuracy: 0.9776 - val_loss: 0.0567 - val_accuracy: 0.9833\n",
      "Epoch 6/50\n",
      "469/469 [==============================] - 4s 9ms/step - loss: 0.0648 - accuracy: 0.9811 - val_loss: 0.0533 - val_accuracy: 0.9830\n",
      "Epoch 7/50\n",
      "469/469 [==============================] - 4s 9ms/step - loss: 0.0578 - accuracy: 0.9827 - val_loss: 0.0494 - val_accuracy: 0.9844\n",
      "Epoch 8/50\n",
      "469/469 [==============================] - 4s 8ms/step - loss: 0.0532 - accuracy: 0.9833 - val_loss: 0.0474 - val_accuracy: 0.9850\n",
      "Epoch 9/50\n",
      "469/469 [==============================] - 4s 8ms/step - loss: 0.0489 - accuracy: 0.9848 - val_loss: 0.0534 - val_accuracy: 0.9829\n",
      "Epoch 10/50\n",
      "469/469 [==============================] - 4s 8ms/step - loss: 0.0433 - accuracy: 0.9874 - val_loss: 0.0448 - val_accuracy: 0.9862\n",
      "Epoch 11/50\n",
      "469/469 [==============================] - 4s 9ms/step - loss: 0.0427 - accuracy: 0.9868 - val_loss: 0.0426 - val_accuracy: 0.9866\n",
      "Epoch 12/50\n",
      "469/469 [==============================] - 4s 8ms/step - loss: 0.0424 - accuracy: 0.9872 - val_loss: 0.0448 - val_accuracy: 0.9854\n",
      "Epoch 13/50\n",
      "469/469 [==============================] - 4s 8ms/step - loss: 0.0410 - accuracy: 0.9882 - val_loss: 0.0429 - val_accuracy: 0.9868\n",
      "Restoring model weights from the end of the best epoch.\n",
      "Epoch 00013: early stopping\n"
     ]
    }
   ],
   "source": [
    "es = tf.keras.callbacks.EarlyStopping( monitor=\"val_loss\", patience=2, verbose=1, restore_best_weights=True)\n",
    "model.compile(loss=\"categorical_crossentropy\", optimizer=tf.keras.optimizers.Adam(0.0005), metrics=[\"accuracy\"])\n",
    "\n",
    "out = model.fit(x_train2, y_train1, batch_size=128, epochs=50, validation_data=(x_test2,y_test1),verbose=1,callbacks=[es])"
   ]
  },
  {
   "cell_type": "code",
   "execution_count": 9,
   "id": "8b3d6831",
   "metadata": {},
   "outputs": [
    {
     "data": {
      "image/png": "[encoded data removed]",
      "text/plain": [
       "<Figure size 432x288 with 1 Axes>"
      ]
     },
     "metadata": {
      "needs_background": "light"
     },
     "output_type": "display_data"
    }
   ],
   "source": [
    "train_loss = out.history['loss']\n",
    "test_loss = out.history['val_loss']\n",
    "plt.plot(train_loss)\n",
    "plt.plot(test_loss)\n",
    "plt.show()"
   ]
  },
  {
   "cell_type": "code",
   "execution_count": 10,
   "id": "f2299fc6",
   "metadata": {},
   "outputs": [],
   "source": [
    "y_pred = model.predict(x_test2)\n",
    "y_pred = (y_pred > 0.5) "
   ]
  },
  {
   "cell_type": "code",
   "execution_count": 11,
   "id": "bca18094",
   "metadata": {},
   "outputs": [
    {
     "name": "stdout",
     "output_type": "stream",
     "text": [
      "Accuracy on test data: 0.99\n"
     ]
    }
   ],
   "source": [
    "print('Accuracy on test data: {:0.2f}'.format(accuracy_score(y_test1, y_pred)))"
   ]
  },
  {
   "cell_type": "code",
   "execution_count": null,
   "id": "f1d2c81c",
   "metadata": {},
   "outputs": [],
   "source": []
  }
 ],
 "metadata": {
  "kernelspec": {
   "display_name": "Python 3",
   "language": "python",
   "name": "python3"
  },
  "language_info": {
   "codemirror_mode": {
    "name": "ipython",
    "version": 3
   },
   "file_extension": ".py",
   "mimetype": "text/x-python",
   "name": "python",
   "nbconvert_exporter": "python",
   "pygments_lexer": "ipython3",
   "version": "3.6.9"
  }
 },
 "nbformat": 4,
 "nbformat_minor": 5
}
